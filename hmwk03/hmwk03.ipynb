{
 "cells": [
  {
   "cell_type": "markdown",
   "metadata": {},
   "source": [
    "# Homework 3: Random Variables and Their Distributions\n",
    "***\n",
    "\n",
    "**Name**: Samuel Leon\n",
    "\n",
    "**Section**: (001 or ~~002~~)\n",
    "***\n",
    "\n",
    "This assignment is due on Moodle by **5pm on Friday October 13th**. Your solutions to theoretical questions should be done in Markdown/MathJax directly below the associated question.  Your solutions to computational questions should include any specified Python code and results as well as written commentary on your conclusions.  Remember that you are encouraged to discuss the problems with your instructors and classmates, but **you must write all code and solutions on your own**.  For a refresher on the course **Collaboration Policy** click [here](https://github.com/chrisketelsen/csci3022/blob/master/resources/syllabus.md#collaboration-policy).  \n",
    "\n",
    "**NOTES**: \n",
    "\n",
    "- Do **NOT** load or use any Python packages that are not available in Anaconda 3.6. \n",
    "- Some problems with code may be autograded.  If we provide a function API **do not** change it.  If we do not provide a function API then you're free to structure your code however you like. \n",
    "- Because you can technically evaluate notebook cells is a non-linear order, it's a good idea to do Cell $\\rightarrow$ Run All as a check before submitting your solutions.  That way if we need to run your code you will know that it will work as expected. \n",
    "- Submit only this Jupyter notebook to Moodle.  Do not compress it using tar, rar, zip, etc. "
   ]
  },
  {
   "cell_type": "code",
   "execution_count": 66,
   "metadata": {
    "collapsed": true,
    "scrolled": true
   },
   "outputs": [],
   "source": [
    "import pandas as pd\n",
    "import numpy as np\n",
    "import matplotlib.pylab as plt\n",
    "from scipy.special import binom\n",
    "import math as math\n",
    "%matplotlib inline"
   ]
  },
  {
   "cell_type": "markdown",
   "metadata": {},
   "source": [
    "### [15 points] Problem 1 \n",
    "***\n",
    "\n",
    "A young boy and an old woman are playing [tic tac toe](https://en.wikipedia.org/wiki/Tic-tac-toe). Unfortunately, the boy is too young to know the strategy and the old woman can't see the board well enough to enact a strategy. Nevertheless, they are content to play games with each other. The boy plays first and randomly places an X in an open square. The woman plays next, and randomly places an O in one of the remaining open squares. They each play randomly until someone gets three in a row, and then start a new game. Estimate, via simulation, the probability that the boy wins.\n",
    "\n",
    "**Note**: Part of the goal of this exercises is to give you more practice structuring a simulation. Definitely don't be afraid to write helper functions that get called from your main simulation routine. Things you might want to do modularly are (i) play a single game of tic-tac-toe, (ii) place an $X$ or an $O$ on an free square, or (iii) check if someone has one the game. This problem will not be autograded so feel free to get creative.  Just make sure to clearly display your results in code output and summarize things in Markdown. "
   ]
  },
  {
   "cell_type": "code",
   "execution_count": 67,
   "metadata": {},
   "outputs": [
    {
     "name": "stdout",
     "output_type": "stream",
     "text": [
      "The probability that the boy wins is 62%\n"
     ]
    }
   ],
   "source": [
    "import random\n",
    "def turn(player, board, remainingList):\n",
    "\tif(player == 'X'):\n",
    "\t\tchoice = random.choice(remainingList)\n",
    "\t\tremainingList.remove(choice)\n",
    "\t\tboard[choice] = 'X'\n",
    "\tif(player == 'Y'):\n",
    "\t\tchoice = random.choice(remainingList)\n",
    "\t\tremainingList.remove(choice)\n",
    "\t\tboard[choice] = 'Y'\n",
    "\treturn remainingList, board\n",
    "\n",
    "def selectWinner(board, winnerList):\n",
    "    if(board[0] == board[1] and board[1] == board[2] and board[0] != 0):\n",
    "        win = board[0]\n",
    "        winnerList.append(win)\n",
    "        return True, winnerList\n",
    "    elif(board[3] == board[4] and board[4] == board[6] and board[3] != 0):\n",
    "        win = board[3]\n",
    "        winnerList.append(win)\n",
    "        return True, winnerList\n",
    "    elif(board[6] == board[7] and board[7] == board[8] and board[6] != 0):\n",
    "        win = board[6]\n",
    "        winnerList.append(win)\n",
    "        return True, winnerList\n",
    "    elif(board[6] == board[3] and board[3] == board[0] and board[6] != 0):\n",
    "        win = board[6]\n",
    "        winnerList.append(win)\n",
    "        return True, winnerList\n",
    "    elif(board[7] == board[4] and board[4] == board[1] and board[7] != 0):\n",
    "        win = board[7]\n",
    "        winnerList.append(win)\n",
    "        return True, winnerList\n",
    "    elif(board[8] == board[5] and board[5] == board[2] and board[8] != 0):\n",
    "        win = board[8]\n",
    "        winnerList.append(win)\n",
    "        return True, winnerList\n",
    "    elif(board[6] == board[7] and board[7] == board[8] and board[6] != 0):\n",
    "        win = board[6]\n",
    "        winnerList.append(win)\n",
    "        return True, winnerList\n",
    "    elif(board[6] == board[4] and board[4] == board[2] and board[6] != 0):\n",
    "        win = board[6]\n",
    "        winnerList.append(win)\n",
    "        return True, winnerList\n",
    "    elif(board[0] == board[4] and board[4] == board[8] and board[0] != 0):\n",
    "        win = board[0]\n",
    "        winnerList.append(win)\n",
    "        return True, winnerList\n",
    "    return False, winnerList\n",
    "\n",
    "def game(trials):\n",
    "\tboard = [0,0,0,0,0,0,0,0,0]\n",
    "\tselection = [0,1,2,3,4,5,6,7,8]\n",
    "\twinnerList = []\n",
    "\n",
    "\tfor i in range(trials):\n",
    "\t\tboard = [0]*9\n",
    "\t\tselection = [0,1,2,3,4,5,6,7,8]\n",
    "\t\twhile(len(selection) != 0):\n",
    "\t\t\tselection, board = turn('X', board, selection)\n",
    "\t\t\tif(len(selection) == 0):\n",
    "\t\t\t\tbreak\n",
    "\t\t\tselection, board = turn('Y', board, selection)\n",
    "\t\t\tplayerWins, winnerList = selectWinner(board, winnerList)\n",
    "\t\t\tif(playerWins == True):\n",
    "\t\t\t\tbreak\n",
    "\tcount = 0\n",
    "\tfor i in winnerList:\n",
    "\t\tcount += 1\n",
    "\treturn count/trials\n",
    "\n",
    "\n",
    "\n",
    "probability = game(10000)\n",
    "print(\"The probability that the boy wins is {}%\".format(round(probability*100)))"
   ]
  },
  {
   "cell_type": "markdown",
   "metadata": {},
   "source": [
    "### [20 points] Problem 2 \n",
    "***\n",
    "\n",
    "Let $X$ be the lifespan (in years) of a BF Goodrich Rugged Trail T/A tire under normal driving conditions, and suppose $X$ is described by the following probability density function: \n",
    "\n",
    "$$\n",
    "f(x) = \\left\\{ \n",
    "\\begin{array}{ll}\n",
    "\\dfrac{10}{cx^2} & 1 \\leq x \\leq 10 \\\\\n",
    "0 & \\textrm{otherwise}\n",
    "\\end{array}\n",
    "\\right.\n",
    "$$\n",
    "\n",
    "**Part A**: Determine the value of $c$ such that $f(x)$ is a valid density function. "
   ]
  },
  {
   "cell_type": "markdown",
   "metadata": {
    "collapsed": true
   },
   "source": [
    "To do this we take the integral...\n",
    "We want the fraction to sum to one (to be valid)\n",
    "$$\\int_{1}^{10} \\frac{10}{cx^2} dx$$\n",
    "$$= \\frac{10}{c}\\int_{1}^{10} \\frac{1}{x^2} dx$$\n",
    "$$= \\frac{10}{c}\\int_{1}^{10} \\frac{1}{x^2} dx$$\n",
    "$$= -\\frac{10}{c}\\frac{1}{x} \\Big|_1^{10}$$\n",
    "$$= \\frac{10}{c}(\\frac{-1}{10})-\\frac{10}{c}(\\frac{-1}{1})$$\n",
    "$$= \\frac{-1}{c} + \\frac{10}{c} = 1$$\n",
    "$$= \\frac{9}{c} = 1$$\n",
    "$$= \\frac{c}{9} = 1$$\n",
    "$$ c = 9$$"
   ]
  },
  {
   "cell_type": "markdown",
   "metadata": {},
   "source": [
    "**Part B**: Compute the cumulative distribution function $F(y)$ for $X$. "
   ]
  },
  {
   "cell_type": "markdown",
   "metadata": {
    "collapsed": true
   },
   "source": [
    "$$\\int_{1}^{y} \\frac{10}{9x^2} dx$$\n",
    "$$= -\\frac{10}{9}\\frac{1}{x} \\Big|_1^{y}$$\n",
    "$$= \\frac{10}{9}(\\frac{-1}{y})-\\frac{10}{9}(\\frac{-1}{1})$$\n",
    "$$= \\frac{-1}{9} + \\frac{y}{9}$$\n",
    "$$= \\frac{10}{9}(1-\\frac{1}{y})$$\n",
    "\n",
    "Therefore, our cumulative distribution function is:\n",
    "\n",
    "$$F(y)=\\cases{\n",
    "    0, y < 0\\\\\n",
    "    \\frac{10}{9}(1-\\frac{1}{y}), y \\geq 1 < 10 \\\\\n",
    "    1,  y \\geq 10 \\\\\n",
    "}$$\n",
    "\n",
    "Where the probability of the tire failing is equal to the fractional result of the function, I.E. 0 probability means the TIre is assured not to fail, where as 1 is the probability that the tire *will* fail. "
   ]
  },
  {
   "cell_type": "markdown",
   "metadata": {},
   "source": [
    "**Part C**: Use the cdf you computed in **Part B** to find the probability that a single tire goes longer than 8 years without failing. "
   ]
  },
  {
   "cell_type": "markdown",
   "metadata": {
    "collapsed": true
   },
   "source": [
    "If we plug 8 into our $F(y)$ function:\n",
    "\n",
    "$F(8) = \\frac{1}{9}(8-1) = \\frac{7}{9} = .\\overline{77}$\n",
    "\n",
    "The probability that a single tire goes longer than 8 years is 1 - p, which in this case is: $$\\frac{10}{9}(1-\\frac{1}{8})$$\n",
    "\n",
    "Therefore, the probability that it does fail after 8 years is:\n",
    "$$97.22\\%$$\n",
    "So, the probability that our tires **do not fail** after 8 years is:\n",
    "$$~3\\% \\quad or \\quad \\frac{1}{36}$$"
   ]
  },
  {
   "cell_type": "markdown",
   "metadata": {},
   "source": [
    "**Part D**: Use the cdf you computed in **Part B** to determine the number of years within which $90\\%$ of all tires will need to be replaced. In other words, determine the 90th percentile of the distribution of $X$. "
   ]
  },
  {
   "cell_type": "markdown",
   "metadata": {
    "collapsed": true
   },
   "source": [
    "Here, we need only set our equation equal to 90% and see what we need y to be.\n",
    "\n",
    "$$F(y) = \\frac{10}{9}(1-\\frac{1}{y}) = 0.90$$\n",
    "\n",
    "$$F(y) = (.9)(\\frac{9}{10})-1 = - \\frac{1}{y}$$\n",
    "\n",
    "$$F(y) = -0.19 = -\\frac{1}{y}$$\n",
    "$$F(y) = \\frac{1}{-0.19} = -y$$\n",
    "$$F(y) = \\frac{1}{0.19} = y$$\n",
    "$$ y = 5.263$$\n",
    "\n",
    "Solving for y, we get:\n",
    "\n",
    "$$y = 5.263$$\n",
    "\n",
    "Therefore, it takes at least 5.26 years for the probability that our tires fail to be 90% or above."
   ]
  },
  {
   "cell_type": "markdown",
   "metadata": {},
   "source": [
    "**Part E**: What is the probability that all four BF Goodrich Rugged Trail T/A tires on a vehicle last longer than 8 years without failing? "
   ]
  },
  {
   "cell_type": "markdown",
   "metadata": {
    "collapsed": true
   },
   "source": [
    "These are independent events (well, we are going to predent the tires have no precedence on one another, anyway- as we could have bought them all on separate dates. Despite this, we are going to say that we bought them all at the same time for brevity's sake). \n",
    "\n",
    "As a result, we need only multiply together the results of $F(8)$ for each tire.\n",
    "\n",
    "Therefore:\n",
    "\n",
    "$$= \\frac{1}{36}*\\frac{1}{36}*\\frac{1}{36}*\\frac{1}{36}$$ \n",
    "\n",
    "Or, \n",
    "\n",
    "$$(\\frac{1}{36})^4 $$"
   ]
  },
  {
   "cell_type": "markdown",
   "metadata": {},
   "source": [
    "### [20 points] Problem 3 \n",
    "***\n",
    "\n",
    "Let $X =$ the leading digit of a randomly selected number from a large accounting\n",
    "ledger. For example, if we randomly draw the number \\$20,695, then $X = 2.$\n",
    "People who make up numbers to commit accounting fraud tend to give $X$ a\n",
    "(discrete) uniform distribution, i.e., $P(X = x) = \\frac{1}{9}$, for $x \\in \\{1, ..., 9\\}$. However,\n",
    "there is empirical evidence that suggests that _naturally occurring_ numbers (e.g.,\n",
    "numbers in a non-fraudulent accounting ledgers) have leading digits that do not\n",
    "follow a uniform distribution. Instead, they follow a distribution defined by the following probability mass function:\n",
    "\n",
    "$$\n",
    "f(x) = \\log_{10}\\left( \\frac{x+1}{x} \\right) \\quad \\textrm{for } x = 1, 2, \\ldots, 9\n",
    "$$"
   ]
  },
  {
   "cell_type": "markdown",
   "metadata": {},
   "source": [
    "**Part A**: Write a function pmf_natural that implements $f(x)$. Your function should take in an integer $x$ and return $f(x) = P(X = x)$.  Use your function to argue that $f(x)$ is a well-defined probability mass function. "
   ]
  },
  {
   "cell_type": "code",
   "execution_count": 68,
   "metadata": {},
   "outputs": [
    {
     "data": {
      "text/plain": [
       "<matplotlib.text.Text at 0x25f40477a20>"
      ]
     },
     "execution_count": 68,
     "metadata": {},
     "output_type": "execute_result"
    },
    {
     "data": {
      "image/png": "[encoded data removed]",
      "text/plain": [
       "<matplotlib.figure.Figure at 0x25f40167358>"
      ]
     },
     "metadata": {},
     "output_type": "display_data"
    }
   ],
   "source": [
    "#############################\n",
    "# Probability mass function #\n",
    "#############################\n",
    "\n",
    "def pmf_natural(x):\n",
    "    if (x != 0):\n",
    "        x = np.log10((x+1)/x)\n",
    "        return x\n",
    "    else:\n",
    "        return 0\n",
    "    \n",
    "##########################################\n",
    "# Our universal distribution function... #\n",
    "##########################################\n",
    "\n",
    "def u_dist(n):\n",
    "    if (n != 0):\n",
    "        x = 1/n\n",
    "        return x\n",
    "    else:\n",
    "        return 0\n",
    "    \n",
    "#############################################################\n",
    "# This is the cumulative distribution function for later... #\n",
    "#############################################################\n",
    "def cdf(x):\n",
    "    count = 0\n",
    "    if(x != 0):\n",
    "        for i in range(x):\n",
    "            count += pmf_natural(i)\n",
    "    else:\n",
    "        return 0\n",
    "    return cdf\n",
    "#######################################################################\n",
    "# Find the sum of probabilities for our pmf function to test validity #\n",
    "#######################################################################\n",
    "list1 = []\n",
    "sum_of_list = 0\n",
    "for i in range(10):\n",
    "    list1.append(pmf_natural(i))\n",
    "    sum_of_list += list1[i]\n",
    "    \n",
    "##############################################\n",
    "# Let's graph it to observe the distribution #\n",
    "##############################################\n",
    "\n",
    "plt.bar(range(len(list1)), list1, color = \"brown\")\n",
    "plt.title(\"PMF distribution\")\n",
    "plt.xlabel(\"Leading number\")\n",
    "plt.ylabel(\"Probability of leading #\")"
   ]
  },
  {
   "cell_type": "code",
   "execution_count": 69,
   "metadata": {},
   "outputs": [
    {
     "name": "stdout",
     "output_type": "stream",
     "text": [
      "The sum of probabilities of our PMF reach 1, as observed by the output of sum_of_list: 1.0 so the 'Sum to 1' property is fulfilled.\n"
     ]
    }
   ],
   "source": [
    "print(\"The sum of probabilities of our PMF reach 1, as observed by the output of sum_of_list: {} so the 'Sum to 1' property is fulfilled.\".format(sum_of_list))"
   ]
  },
  {
   "cell_type": "markdown",
   "metadata": {},
   "source": [
    "This is a valid PMF as it fulfills the two requirements of a defined PMF:\n",
    "\n",
    "* Non-negativity: The values of this function are non-negative.\n",
    "* Sums to 1: All of the returns of this function are fractional so, our limit of $f(x)$ is:\n",
    "$$\\lim_{x \\to 9} f(x) \\rightarrow 1 $$\n",
    "\n",
    "Since both of these requirements are fulfilled, this is a valid PMF."
   ]
  },
  {
   "cell_type": "markdown",
   "metadata": {},
   "source": [
    "**Part B**: Use the function you wrote above to make stacked bar plots describing the pmf of the naturally occurring numbers as well as the discrete uniform distribution.  Make sure that the $x$- and $y$-limits on your plots are the same so that the two distributions are easy to compare. "
   ]
  },
  {
   "cell_type": "code",
   "execution_count": 70,
   "metadata": {},
   "outputs": [],
   "source": [
    "pmfList = []\n",
    "uList = []\n",
    "cdfList = []\n",
    "#####################################\n",
    "# Building our lists for the graphs #\n",
    "#####################################\n",
    "\n",
    "for i in range(9):\n",
    "    pmfList.append(pmf_natural(i+1))\n",
    "    uList.append(u_dist(9))\n",
    "    cdfList.append(cdf(i))\n"
   ]
  },
  {
   "cell_type": "code",
   "execution_count": 71,
   "metadata": {
    "scrolled": false
   },
   "outputs": [
    {
     "data": {
      "image/png": "[encoded data removed]",
      "text/plain": [
       "<matplotlib.figure.Figure at 0x25f3f5b99e8>"
      ]
     },
     "metadata": {},
     "output_type": "display_data"
    }
   ],
   "source": [
    "width = 0.5\n",
    "#################\n",
    "# Make my plots #\n",
    "#################\n",
    "\n",
    "p1 = plt.bar(range(0, len(uList)), uList, width, color='#d62728', yerr=uList)\n",
    "p2 = plt.bar(range(0, len(pmfList)), pmfList, width, bottom=uList, yerr=pmfList)\n",
    "\n",
    "ind = np.arange(9)\n",
    "plt.ylabel('Probability')\n",
    "plt.xlabel('nth leading digit')\n",
    "\n",
    "##################\n",
    "# Make it pretty #\n",
    "##################\n",
    "plt.title('Probability of leading number, Universal Distribution vs. PMF')\n",
    "plt.xticks(ind, ('1', '2', '3', '4', '5', '6', '7', '8', '9'))\n",
    "plt.yticks(np.arange(0, .8, .05))\n",
    "plt.legend((p1[0], p2[0]), ('Universal', 'PMF'))\n",
    "\n",
    "plt.show()"
   ]
  },
  {
   "cell_type": "markdown",
   "metadata": {},
   "source": [
    "**Part C:** Write a function cdf_natural that implements the cumulative distribution function for $F(y)$ for $X$\n",
    "and use it to compute the probability that the leading digit in a number is at most 4 and at most 5."
   ]
  },
  {
   "cell_type": "markdown",
   "metadata": {},
   "source": [
    "Note that the Cumulative Distribution Function is calculated by integrating the probability mass function.\n",
    "\n",
    "In this case we have the indefinite integral: \n",
    "\n",
    "$$\\int\\log_{10}(\\frac{x+1}{x}) = \\frac{x\\log(\\frac{1}{x}+1) + log(x+1)}{log(10)} + C$$"
   ]
  },
  {
   "cell_type": "code",
   "execution_count": 72,
   "metadata": {
    "scrolled": true
   },
   "outputs": [
    {
     "name": "stdout",
     "output_type": "stream",
     "text": [
      "The probability that the cdf is <= 4: 69.89700043360189%\n",
      "The probability that the cdf is <= 5: 77.81512503836436%\n"
     ]
    }
   ],
   "source": [
    "#######################################################\n",
    "# Calculate the probability of our leading numbers... #\n",
    "#######################################################\n",
    "def cdf(x):\n",
    "    count = 0\n",
    "    if(x != 0):\n",
    "        #The integral is equivicably the summation/accumulation of the pmf, so we're going to do that-\n",
    "        #Because we've already defined the pmf and it's easier\n",
    "        for i in range(1, x):\n",
    "            count += pmf_natural(i)\n",
    "    else:\n",
    "        return 0\n",
    "    return count\n",
    "\n",
    "p4 = cdf(5)\n",
    "p5 = cdf(6)\n",
    "print(\"The probability that the cdf is <= 4: {}%\".format(p4*100))\n",
    "print(\"The probability that the cdf is <= 5: {}%\".format(p5*100))"
   ]
  },
  {
   "cell_type": "markdown",
   "metadata": {},
   "source": [
    "**Part D**: The data in tax_data.txt contains the taxable income for individuals in 1978. Use Pandas and the information from **Parts A-D** to determine whether or not the dataset is likely fraudulent.  In addition to code and any graphical summaries, make sure to clearly justify your conclusion in words. "
   ]
  },
  {
   "cell_type": "code",
   "execution_count": 73,
   "metadata": {
    "scrolled": false
   },
   "outputs": [
    {
     "name": "stdout",
     "output_type": "stream",
     "text": [
      "The probability that our numbers are <= 4 is: 71.27222074820907%\n",
      "The probability that our numbers are <= 5 is: 78.49694879278323%\n"
     ]
    },
    {
     "data": {
      "image/png": "[encoded data removed]",
      "text/plain": [
       "<matplotlib.figure.Figure at 0x25f3f49c048>"
      ]
     },
     "metadata": {},
     "output_type": "display_data"
    }
   ],
   "source": [
    "###################################################################################\n",
    "# Let's build a graph of this tax document and make some predictions or something #\n",
    "###################################################################################\n",
    "\n",
    "local_path = 'tax_data.txt'\n",
    "df = pd.read_csv(local_path, sep = '\\t')\n",
    "df = df[(df.T != 0).any()] #Remove any all zero entries\n",
    "falseList = []\n",
    "falseList = df[\"Tax Incomes\"].values.T.tolist()\n",
    "count = 0\n",
    "count2 = 0\n",
    "\n",
    "for i in range(len(falseList)):\n",
    "    x = falseList[i]\n",
    "    while(x > 10):\n",
    "        x //= 10\n",
    "    falseList[i] = x\n",
    "for i in falseList:\n",
    "    if i <= 4:\n",
    "        count += 1\n",
    "    if i <= 5:\n",
    "        count2 += 1\n",
    "print(\"The probability that our numbers are <= 4 is: {}%\".format(count/150760*100))\n",
    "print(\"The probability that our numbers are <= 5 is: {}%\".format(count2/150760*100))\n",
    "#This is very close to our desired value.\n",
    "\n",
    "fig, ax = plt.subplots(figsize=(12,6))\n",
    "plt.hist(falseList, color = \"steelblue\", edgecolor = \"white\", bins=10, width = .5)\n",
    "ax.grid(alpha=0.25)\n",
    "ax.set_axisbelow(True)\n",
    "ax.set_title(\"Distribution of leading numbers\", fontsize = 20)\n",
    "ax.set_xlabel(\"Leading number\", fontsize = 20)\n",
    "ax.set_ylabel(\"Number of occurrences\", fontsize = 20)\n",
    "\n",
    "plt.show()\n",
    "\n"
   ]
  },
  {
   "cell_type": "markdown",
   "metadata": {},
   "source": [
    "The tax document follows the expected distribution of numbers as our previously defined function value. \n",
    "\n",
    "Expected: $\\leq$ 4 is: $69.89\\%$\n",
    "\n",
    "Expected: $\\leq$ 5 is: $77.81\\%$\n",
    "\n",
    "Experimentally found: $\\leq 4$ is: $71.27\\%$\n",
    "\n",
    "Experimentally found: $\\leq 5$ is: $78.49\\%$\n",
    "\n",
    "Our numbers are within 3% of eachother. Therefore, I am confident in saying that the Tax numbers are legitimate."
   ]
  },
  {
   "cell_type": "markdown",
   "metadata": {},
   "source": [
    "### [25 points] Problem 4 \n",
    "***\n",
    "\n",
    "You are a data-driven transportation engineer investigating the effect that a particular [vertical lift bridge](https://en.wikipedia.org/wiki/Vertical-lift_bridge) has on city traffic.  Every time a boat passes under the bridge, cars must stop while the bridge is raised to accommodate the height of the boat.  As both boat and car traffic increases, city planners are considering building a new taller bridge that will never impede the flow of traffic. As part of a larger simulation of traffic congestion, you need to decide how to model the arrival of boats at the bridge.  From your Intro to Data Science class you remember that the time _between_ independent arrivals are usually modeled by an Exponential distribution.  Finally, you have access to a report that says on average 20 boats cross under the bridge per day.\n",
    "\n",
    "Answer the following questions about this scenario. **Note** that for **Parts B-D** you should clearly express the computation you're doing with math, but feel free to do any fancy function evaluations with Python. \n",
    "\n",
    "**Part A**:  Assuming the between-boat times do in-fact follow $Exp(20)$, what distribution would you expect the **number** of boats that cross under the bridge on a given day to follow?  What are the parameter(s) of the distribution? "
   ]
  },
  {
   "cell_type": "markdown",
   "metadata": {},
   "source": [
    "These boats are a Poisson distribution.\n",
    "\n",
    "The rules for our Poisson distribution are as follows:\n",
    "\n",
    "1. The events must be indepedent \n",
    "2. There is no more than one occurrence per time interval\n",
    "3. The probability of occurrence of said events must be constant"
   ]
  },
  {
   "cell_type": "markdown",
   "metadata": {},
   "source": [
    "**Part B**:  What is the probability that 25 boats cross under the bridge on a particular day?"
   ]
  },
  {
   "cell_type": "markdown",
   "metadata": {
    "collapsed": true
   },
   "source": [
    "$$P(X) = \\frac{\\lambda^xe^{-\\lambda}}{x!}$$\n",
    "\n",
    "Plugging in our values...\n",
    "\n",
    "$$P(25) = \\frac{20^{(25)}e^{-20}}{(25!)}$$"
   ]
  },
  {
   "cell_type": "markdown",
   "metadata": {},
   "source": [
    "**Part C**:  What is the probability that 15 boats or fewer cross under the bridge on a particular day?"
   ]
  },
  {
   "cell_type": "markdown",
   "metadata": {
    "collapsed": true
   },
   "source": [
    "We want the probability of $P(X\\leq 15)$\n",
    "\n",
    "We can get this by summing the all probabilities prior to this event.\n",
    "\n",
    "$$P(X \\leq 15) = P(X_0) + P(X_1) + P(X_2) + P(X_3) + ... P(X_{15})$$\n",
    "\n",
    "$$= \\sum_{i=0}^{15}\\frac{20^{x_n}e^{-20}}{x_n!} = 0.156 = 15.60\\%$$\n"
   ]
  },
  {
   "cell_type": "markdown",
   "metadata": {},
   "source": [
    "**Part D**: What is the probability that between 1 and 2 hours pass between two boat crossings? "
   ]
  },
  {
   "cell_type": "markdown",
   "metadata": {
    "collapsed": true
   },
   "source": [
    "This can be expressed with the following integral:\n",
    "$$\\int_a^b{\\lambda e^{\\lambda t}}dt$$\n",
    "Again, plugging in our numbers and shifting a & b to be with reference to our frame of time- we get:\n",
    "$$\\int_{\\frac{1}{24}}^\\frac{2}{24}20e^{-20t}=\\frac{1229}{5000}= 24.58\\%$$"
   ]
  },
  {
   "cell_type": "markdown",
   "metadata": {},
   "source": [
    "**Part F**: Write a function boat_count that takes as it's sole argument the rate parameter $\\lambda$ with units boats per day. Your function should simulate boat arrivals at the bridge by sampling between-boat times from $Exp(\\lambda)$ via Numpy's [random.exponential](https://docs.scipy.org/doc/numpy-1.13.0/reference/generated/numpy.random.exponential.html) function and return the number of boats that pass under the bridge on a single simulated day. \n",
    "\n",
    "**Note**: Do not change the API for this function.  "
   ]
  },
  {
   "cell_type": "markdown",
   "metadata": {},
   "source": [
    "$$F(x) = \\frac{1}{\\beta}exp(\\frac{-x}{\\beta})$$\n",
    "\n",
    "$$\\beta = \\frac{1}{\\lambda}$$"
   ]
  },
  {
   "cell_type": "code",
   "execution_count": 74,
   "metadata": {
    "collapsed": true
   },
   "outputs": [],
   "source": [
    "#######################################################\n",
    "# ♬ ♫ Building our Poisson distribution function ♫ ♬ #\n",
    "#######################################################\n",
    "\n",
    "def boat_count(lam):\n",
    "    lam = lam/24\n",
    "    num_boats = 0\n",
    "    total_time = 0\n",
    "    \n",
    "    beta = 1/lam\n",
    "    \n",
    "    while(total_time< 24):\n",
    "        exp = np.random.exponential(beta)\n",
    "        if total_time + exp < 24:\n",
    "            num_boats += 1\n",
    "        total_time += exp\n",
    "\n",
    "    return num_boats"
   ]
  },
  {
   "cell_type": "code",
   "execution_count": 75,
   "metadata": {},
   "outputs": [
    {
     "data": {
      "text/plain": [
       "22"
      ]
     },
     "execution_count": 75,
     "metadata": {},
     "output_type": "execute_result"
    }
   ],
   "source": [
    "boat_count(20)"
   ]
  },
  {
   "cell_type": "markdown",
   "metadata": {},
   "source": [
    "**Part G**: Write a function boat_count_sim that takes as arguments the rate parameter $\\lambda$ with units boats per day and an integer number of days to simulate. Your function should use the function you wrote in **Part F** to simulate many independent days of boat crossings and estimate the probability that 15 boats or fewer cross under the bridge on a particular day. For $\\lambda = 20$, does your estimate agree with the by-hand computation you did in **Part C**?  \n",
    "\n",
    "**Note**: Do not change the API for this function.  "
   ]
  },
  {
   "cell_type": "code",
   "execution_count": 76,
   "metadata": {},
   "outputs": [
    {
     "name": "stdout",
     "output_type": "stream",
     "text": [
      "The probability that 15 or fewer boats arrive per day: 15.51%\n"
     ]
    }
   ],
   "source": [
    "###############################################\n",
    "# Now do the simulation for a variant of days #\n",
    "###############################################\n",
    "\n",
    "def boat_count_sim(lam, num_days=int(1e5)):\n",
    "    day_count = 0\n",
    "    for i in range(num_days+1):\n",
    "        count = boat_count(20)\n",
    "        if(count <= 15):\n",
    "            day_count += 1\n",
    "    return day_count/num_days\n",
    "\n",
    "x= boat_count_sim(20)*100\n",
    "x = round(x,2)\n",
    "print(\"The probability that 15 or fewer boats arrive per day: {}%\".format(x))"
   ]
  },
  {
   "cell_type": "markdown",
   "metadata": {},
   "source": [
    "**Part H**: Write a function boat_time_sim that takes as arguments the rate parameter $\\lambda$ with units boats per day and an integer number of boat arrivals to simulate. Your function should sample boat arrivals via [np.random.exponential](https://docs.scipy.org/doc/numpy-1.13.0/reference/generated/numpy.random.exponential.html) and estimate the probability that boats arrive between 1 and 2 hours apart.  For $\\lambda = 20$, does your estimate agree with the by-hand computation you did in **Part D**?  \n",
    "\n",
    "**Note**: Do not change the API for this function.  \n"
   ]
  },
  {
   "cell_type": "code",
   "execution_count": 77,
   "metadata": {},
   "outputs": [
    {
     "name": "stdout",
     "output_type": "stream",
     "text": [
      "Probability that boats arrive 1 to 2 hours apart from one another: 24.57%\n"
     ]
    }
   ],
   "source": [
    "################################################\n",
    "# Now let's do it based on the number of boats #\n",
    "################################################\n",
    "\n",
    "def boat_time_sim(lam, num_boats=int(1e6)): \n",
    "    count = 0\n",
    "    lam = lam/24 #put in terms of hours\n",
    "    beta = 1/lam\n",
    "    for i in range(num_boats):\n",
    "        exp = np.random.exponential(beta)\n",
    "        if(exp <= 2 and exp >= 1):\n",
    "            count +=1\n",
    "    return count/num_boats\n",
    "\n",
    "x = boat_time_sim(20)*100\n",
    "x = round(x, 2)\n",
    "print(\"Probability that boats arrive 1 to 2 hours apart from one another: {}%\".format(x))"
   ]
  },
  {
   "cell_type": "markdown",
   "metadata": {},
   "source": [
    "### [20 points] Problem 5 \n",
    "***\n",
    "\n",
    "You are the team manager for the CU intramural Quidditch team, the Boulder Beaters, and you've just made it to the national championship series against the Stanford Snitching Snitches. The typical Quidditch championship is a best of 11 series, so the first team to win 6 matches is declared the winner.  Furthermore, based on a rigorous statistical analysis of regular season play, the probability that the Boulder Beaters win any one match against the Snitching Snitches is given by $p = 0.55$.  \n",
    "\n",
    "**Part A**: What is the probability that you win the 11-game series on the 8th match played? \n"
   ]
  },
  {
   "cell_type": "markdown",
   "metadata": {
    "collapsed": true
   },
   "source": [
    "So, we need to find all the ways that we can win in 8 rounds, and remove all the ways we can win in 7 rounds.\n",
    "\n",
    "$$({8\\choose 6} - {7 \\choose 6})(0.55)^6(0.45)^2$$\n",
    "It is worth noting that $7 \\choose 6$ includes all ways we could win in 7 games and in 6 games."
   ]
  },
  {
   "cell_type": "code",
   "execution_count": 78,
   "metadata": {},
   "outputs": [
    {
     "name": "stdout",
     "output_type": "stream",
     "text": [
      "Probability that they win in exactly 8 games: 12.0%\n"
     ]
    }
   ],
   "source": [
    "print(\"Probability that they win in exactly 8 games: {}%\".format(round((binom(8,6) - binom(7,6))*((0.55**6)*(0.45**2))*100),2))"
   ]
  },
  {
   "cell_type": "markdown",
   "metadata": {},
   "source": [
    "**Part B**: What is the probability that you win the 11-game series in any valid number of matches? "
   ]
  },
  {
   "cell_type": "code",
   "execution_count": 79,
   "metadata": {},
   "outputs": [
    {
     "name": "stdout",
     "output_type": "stream",
     "text": [
      "The probability that they win in an 11 game series: 63.31%\n"
     ]
    }
   ],
   "source": [
    "###################################################\n",
    "# Put our combinatorics function in general terms #\n",
    "###################################################\n",
    "x = 0\n",
    "for i in range(6, 12):\n",
    "    #start at 6 because we can't win before that...obviously\n",
    "    x += (binom(i,6) - (binom((i-1), 6)))*(0.55**6)*(0.45**(i-6))\n",
    "x *= 100 #put it in terms of %'s\n",
    "x = round(x,2) #round off dem ugly decimals\n",
    "print(\"The probability that they win in an 11 game series: {}%\".format(x))\n"
   ]
  },
  {
   "cell_type": "markdown",
   "metadata": {},
   "source": [
    "**Part C**: The winner of the champsionship will take home \\$10,000 to use for equipment and victory parties in the following season. Because the stakes are so high, you've decided to hire a famous Quidditch consultant, Bludger Bob, to help you prepare for each match. With Bob's help your probability of winning any given match increases to $p = 0.7$.  Bludger Bob charges a fee of \\$100 per game, but as a testament to his confidence in his abilities, only charges you the \\$100 for games that you win and only if you win the series.  So, if you play a 11-game series and win you will take home \\$10,000 less \\$600 for Bludger Bob's fees, for a total payout of \\$9,400.  What is the expected payout for an 11-game series?   "
   ]
  },
  {
   "cell_type": "markdown",
   "metadata": {},
   "source": [
    "The expectation of the 11-series game will be as follows: \n",
    "\n",
    "$\\$9,400$(probability that we win) + $\\$0($Probability that we lose)\n",
    "\n",
    "Since $0 * anything$ is 0, we can disclude this from our calculations.\n",
    "\n",
    "Therfore, the expectation is simply:\n",
    "\n",
    "$\\$9,400$(probability that we win)\n",
    "\n",
    "OR \n",
    "\n",
    "$\\$9,400 * 92.18\\%$"
   ]
  },
  {
   "cell_type": "code",
   "execution_count": 80,
   "metadata": {},
   "outputs": [
    {
     "name": "stdout",
     "output_type": "stream",
     "text": [
      "The probability that they win in an 11 game series with the mentor: 92.18%\n",
      "Expected winnings of an 11-game seires: $8664.92\n"
     ]
    }
   ],
   "source": [
    "########################################\n",
    "# Calculate the expectation of our PMF #\n",
    "########################################\n",
    "x = 0\n",
    "for i in range(6, 12):\n",
    "    #start at 6 because we can't win before that...obviously\n",
    "    x += (binom(i,6) - (binom((i-1), 6)))*(0.7**6)*(0.3**(i-6))\n",
    "x *= 100 #put it in terms of %'s\n",
    "x = round(x,2) #round off dem ugly decimals\n",
    "print(\"The probability that they win in an 11 game series with the mentor: {}%\".format(x))\n",
    "\n",
    "print(\"Expected winnings of an 11-game seires: ${}\".format(.9218*(9400)))"
   ]
  },
  {
   "cell_type": "markdown",
   "metadata": {},
   "source": [
    "**Part D**: This year the National Intramural Quidditch Association (NIQA) is implementing an experimental rule.  As the team with the best record in the regular season you will get to choose the length of the championship series.  Specifically, you can choose the series length to be anywhere from $N=3, 5, 7, \\ldots, 99$ games long.  Assuming that you plan to use Bludger Bob's services and considering the fact that you have a better than even chance of winning each game, explain the trade-offs between choosing a short series vs. a long series in terms of Expected Payout. \n"
   ]
  },
  {
   "cell_type": "markdown",
   "metadata": {
    "collapsed": true
   },
   "source": [
    "There are two factors we need to take into consideration when approaching this problem:\n",
    "* The more games you play, the more likely you are to win (assuming .7 probability)\n",
    "* The cumulative cost of \"insurance\" (Bob) goes up the more games you have to play\n",
    "\n",
    "With that in mind, in order to maximize our winnings, we want to find a \"sweet spot\" wherein our likelyhood of winning is almost assured, at as cheap of a cost as possible.\n",
    "\n",
    "It is likely that this will be within 10 games; because we are calculating the *expected* winnings, it is important that the probability of winning is high- to retain as much of the money on the table (after paying Bob).\n",
    "\n",
    "So, we will want our probability to be $P(X): \\geq 80\\%$\n",
    "\n",
    "We can get this within 10 games- and, after calculating the number below, I have found the answer to be 7 games at an expected winnings of: $\\$8739.88$"
   ]
  },
  {
   "cell_type": "markdown",
   "metadata": {},
   "source": [
    "**Part E**: Write a function optimal_series that takes in $p$, the probability that your team wins an individual game, then computes the Expected Payout for each series of length $N=3, 5, 7, \\ldots 99$ and returns the optimal series length.  In addition to returning the optimal series length, your function should also produce a plot of Expected Payout vs Series Length. You may write any additional helper functions that you like, but you should not change the API for the function optimal_series. "
   ]
  },
  {
   "cell_type": "code",
   "execution_count": 81,
   "metadata": {},
   "outputs": [
    {
     "name": "stdout",
     "output_type": "stream",
     "text": [
      "The optimal expected payout occurs at: 7 game(s), at a value of $8739.88.\n"
     ]
    }
   ],
   "source": [
    "########################################################################################################################\n",
    "# I did some stupid stuff here, to make things easier for me on the programming side.                                  #\n",
    "# Let it be known that the games_to_win function returns the number of games one must win in order to win the series   #\n",
    "# calculate_earnings determines the expectation after Bob's cut from the games                                         #\n",
    "# build_graph takes all of the odd values (as even should *not* be included) and populates a list                      #\n",
    "# optimal_series finds the maximum earnings available in our list                                                      #\n",
    "########################################################################################################################\n",
    "\n",
    "def games_to_win(x):\n",
    "    x //= 2\n",
    "    x+=1\n",
    "    return x\n",
    "\n",
    "def calculate_earnings(p, r):\n",
    "    x = 0\n",
    "    k = games_to_win(r)\n",
    "    for i in range(1, r+1):\n",
    "        #start at 6 because we can't win before that...obviously\n",
    "        x += (binom(i,k) - (binom((i-1), k)))*(p**k)*((1-p)**(i-k))\n",
    "    #print(\"The probability that they win in a {} game(s) series with the mentor: {}%\".format(i, x))\n",
    "    earnings = (10000-(k*100))*x\n",
    "    earnings = round(earnings, 2)\n",
    "    return earnings\n",
    "\n",
    "\n",
    "def build_graph(p):\n",
    "    list1 = []\n",
    "    count = 0\n",
    "    for i in range(1, 100, 2):\n",
    "        list1.append(calculate_earnings(p, i))\n",
    "        \n",
    "    x = max(list1)\n",
    "    return list1, x\n",
    "\n",
    "def optimal_series(p):\n",
    "    mList, maxVal = build_graph(p)\n",
    "    for i in range(len(mList)):\n",
    "        if(mList[i] == maxVal):\n",
    "            return i\n",
    "graphList, y = build_graph(.7)\n",
    "\n",
    "print(\"The optimal expected payout occurs at: {} game(s), at a value of ${}.\".format(optimal_series(.7), y))"
   ]
  },
  {
   "cell_type": "code",
   "execution_count": 82,
   "metadata": {},
   "outputs": [
    {
     "data": {
      "image/png": "[encoded data removed]",
      "text/plain": [
       "<matplotlib.figure.Figure at 0x25f3f7c5710>"
      ]
     },
     "metadata": {},
     "output_type": "display_data"
    }
   ],
   "source": [
    "##################\n",
    "# Make it pretty #\n",
    "##################\n",
    "\n",
    "fig, ax = plt.subplots(figsize=(12,6))\n",
    "plt.bar(range(len(graphList)), graphList, color = \"steelblue\", edgecolor = \"white\")\n",
    "\n",
    "ax.grid(alpha=0.25)\n",
    "ax.set_axisbelow(True)\n",
    "ax.set_title(\"Expected payout vs. Series length\", fontsize = 20)\n",
    "ax.set_xlabel(\"Series length\", fontsize = 20)\n",
    "ax.set_ylabel(\"Expected Payout\", fontsize = 20)\n",
    "\n",
    "plt.show()"
   ]
  },
  {
   "cell_type": "markdown",
   "metadata": {},
   "source": [
    "### Challenge Problem - Which Geyser Gushes First? \n",
    "***\n",
    "\n",
    "In every homework assignment we'll give you a Challenge Problem.  Challenge Problems never need to be turned in (and in fact, will not be graded) but we encourage you to give them a shot (after completing the required homework problems) and discuss them with your classmates and your instructors. \n",
    "\n",
    "The following Challenge Problem was a [Riddler](https://fivethirtyeight.com/tag/the-riddler/) on [FiveThirtyEight](https://fivethirtyeight.com) a few years back. \n",
    "\n",
    "You arrive at the beautiful Three Geysers National Park. You read a placard explaining that the three eponymous geysers — creatively named $A$, $B$ and $C$ — erupt at intervals of precisely two hours, four hours and six hours, respectively. However, you just got there, so you have no idea how the three eruptions are staggered. Assuming they each started erupting at some independently random point in history, what are the probabilities that A, B and C, respectively, will be the first to erupt after your arrival?\n"
   ]
  },
  {
   "cell_type": "code",
   "execution_count": null,
   "metadata": {
    "collapsed": true
   },
   "outputs": [],
   "source": []
  },
  {
   "cell_type": "code",
   "execution_count": null,
   "metadata": {
    "collapsed": true
   },
   "outputs": [],
   "source": []
  }
 ],
 "metadata": {
  "kernelspec": {
   "display_name": "Python 3",
   "language": "python",
   "name": "python3"
  },
  "language_info": {
   "codemirror_mode": {
    "name": "ipython",
    "version": 3
   },
   "file_extension": ".py",
   "mimetype": "text/x-python",
   "name": "python",
   "nbconvert_exporter": "python",
   "pygments_lexer": "ipython3",
   "version": "3.6.1"
  }
 },
 "nbformat": 4,
 "nbformat_minor": 2
}
